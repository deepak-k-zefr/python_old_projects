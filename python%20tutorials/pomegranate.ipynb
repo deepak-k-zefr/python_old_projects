{
 "cells": [
  {
   "cell_type": "code",
   "execution_count": 2,
   "metadata": {
    "collapsed": false
   },
   "outputs": [
    {
     "name": "stdout",
     "output_type": "stream",
     "text": [
      "Populating the interactive namespace from numpy and matplotlib\n"
     ]
    }
   ],
   "source": [
    "%pylab inline\n",
    "from pomegranate import *"
   ]
  },
  {
   "cell_type": "markdown",
   "metadata": {},
   "source": [
    "### Distributions¶\n"
   ]
  },
  {
   "cell_type": "markdown",
   "metadata": {},
   "source": [
    "The distribution is the simplest unit of probabilistic modelling. You are saying that all of your data are realizations of the same stationary underlying distribution. This is a good fit for many types of simple data where each instance is a fixed feature size and independant of all other instances. Here is a full list of the distributions currently supported:\n"
   ]
  },
  {
   "cell_type": "code",
   "execution_count": 3,
   "metadata": {
    "collapsed": true
   },
   "outputs": [],
   "source": [
    "d = NormalDistribution( 0, 1 ) # The normal distribution"
   ]
  },
  {
   "cell_type": "code",
   "execution_count": 4,
   "metadata": {
    "collapsed": false
   },
   "outputs": [
    {
     "data": {
      "image/png": "[encoded data removed]",
      "text/plain": [
       "<matplotlib.figure.Figure at 0x7efe3f165cc0>"
      ]
     },
     "metadata": {},
     "output_type": "display_data"
    }
   ],
   "source": [
    "plt.figure( figsize=(10,6) )\n",
    "d.plot( n=10000, edgecolor='c', facecolor='c', alpha=1, bins=25 )"
   ]
  },
  {
   "cell_type": "code",
   "execution_count": 5,
   "metadata": {
    "collapsed": false
   },
   "outputs": [
    {
     "name": "stdout",
     "output_type": "stream",
     "text": [
      "-2.9189385332042734\n",
      "-2.9189385332042734\n"
     ]
    }
   ],
   "source": [
    "print (d.log_probability(  2 ))\n",
    "print (d.log_probability( -2 ))"
   ]
  },
  {
   "cell_type": "markdown",
   "metadata": {},
   "source": [
    "The log probability for both are the same, which makes sense since they're both the same distance from 0. Calculating log probabilities are more efficient than calculating probabilities, and usually lead to more efficient downstream algorithms, and so are the only option provided."
   ]
  },
  {
   "cell_type": "code",
   "execution_count": 9,
   "metadata": {
    "collapsed": false
   },
   "outputs": [
    {
     "name": "stdout",
     "output_type": "stream",
     "text": [
      "scipy norm: 11.182351929001015s\n",
      "pomegranate: 0.01875046499844757s\n",
      "logp difference: -3.992361996552063e-13\n"
     ]
    }
   ],
   "source": [
    "import timeit\n",
    "from scipy.stats import norm\n",
    "\n",
    "print (\"scipy norm: {}s\".format( timeit.timeit( \"norm.logpdf(2, 0, 1)\", setup=\"from scipy.stats import norm\", number=10000 ) ))\n",
    "print (\"pomegranate: {}s\".format( timeit.timeit( \"d.log_probability(2)\", setup=\"from pomegranate import NormalDistribution; d = NormalDistribution(0, 1)\", number=10000)) )\n",
    "print (\"logp difference: {}\".format( norm.logpdf(2, 0, 1) - d.log_probability( 2 ) ))"
   ]
  },
  {
   "cell_type": "code",
   "execution_count": 10,
   "metadata": {
    "collapsed": true
   },
   "outputs": [],
   "source": [
    "data = np.random.randn(100) * 0.9 + 0.4\n",
    "d.fit( data )"
   ]
  },
  {
   "cell_type": "code",
   "execution_count": 11,
   "metadata": {
    "collapsed": false
   },
   "outputs": [
    {
     "name": "stdout",
     "output_type": "stream",
     "text": [
      "1000 loops, best of 3: 370 µs per loop\n",
      "10000 loops, best of 3: 138 µs per loop\n"
     ]
    }
   ],
   "source": [
    "%timeit data.mean(); data.std()\n",
    "%timeit d.fit( data )"
   ]
  },
  {
   "cell_type": "code",
   "execution_count": 13,
   "metadata": {
    "collapsed": false
   },
   "outputs": [
    {
     "name": "stdout",
     "output_type": "stream",
     "text": [
      "Norm(17.81, 2.5719)\n"
     ]
    }
   ],
   "source": [
    "for i in xrange(10):\n",
    "    data = np.random.randn(10000) * 2.583 + 17.813\n",
    "    d.summarize(data)\n",
    "\n",
    "d.from_summaries()\n",
    "print (\"Norm({:.5}, {:.5})\".format(*d.parameters))"
   ]
  },
  {
   "cell_type": "code",
   "execution_count": null,
   "metadata": {
    "collapsed": true
   },
   "outputs": [],
   "source": []
  }
 ],
 "metadata": {
  "anaconda-cloud": {},
  "kernelspec": {
   "display_name": "Python [default]",
   "language": "python",
   "name": "python3"
  },
  "language_info": {
   "codemirror_mode": {
    "name": "ipython",
    "version": 3
   },
   "file_extension": ".py",
   "mimetype": "text/x-python",
   "name": "python",
   "nbconvert_exporter": "python",
   "pygments_lexer": "ipython3",
   "version": "3.5.2"
  }
 },
 "nbformat": 4,
 "nbformat_minor": 1
}
