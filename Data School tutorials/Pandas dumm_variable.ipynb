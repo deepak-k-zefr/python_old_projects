{
 "cells": [
  {
   "cell_type": "code",
   "execution_count": 38,
   "metadata": {
    "collapsed": false
   },
   "outputs": [],
   "source": [
    "import pandas as pd\n",
    "import seaborn as sns"
   ]
  },
  {
   "cell_type": "markdown",
   "metadata": {},
   "source": [
    "### Read data"
   ]
  },
  {
   "cell_type": "code",
   "execution_count": 39,
   "metadata": {
    "collapsed": false
   },
   "outputs": [],
   "source": [
    "data=pd.read_csv('data.csv')"
   ]
  },
  {
   "cell_type": "code",
   "execution_count": 40,
   "metadata": {
    "collapsed": false
   },
   "outputs": [
    {
     "data": {
      "text/html": [
       "<div>\n",
       "<table border=\"1\" class=\"dataframe\">\n",
       "  <thead>\n",
       "    <tr style=\"text-align: right;\">\n",
       "      <th></th>\n",
       "      <th>day</th>\n",
       "      <th>site</th>\n",
       "      <th>new_customer</th>\n",
       "      <th>platform</th>\n",
       "      <th>visits</th>\n",
       "      <th>distinct_sessions</th>\n",
       "      <th>orders</th>\n",
       "      <th>gross_sales</th>\n",
       "      <th>bounces</th>\n",
       "      <th>add_to_cart</th>\n",
       "      <th>product_page_views</th>\n",
       "      <th>search_page_views</th>\n",
       "      <th>Unnamed: 12</th>\n",
       "      <th>Unnamed: 13</th>\n",
       "      <th>Unnamed: 14</th>\n",
       "    </tr>\n",
       "  </thead>\n",
       "  <tbody>\n",
       "    <tr>\n",
       "      <th>0</th>\n",
       "      <td>1/1/2013 0:00</td>\n",
       "      <td>Acme</td>\n",
       "      <td>1.0</td>\n",
       "      <td>Android</td>\n",
       "      <td>24</td>\n",
       "      <td>16</td>\n",
       "      <td>14</td>\n",
       "      <td>1287.0</td>\n",
       "      <td>4</td>\n",
       "      <td>16</td>\n",
       "      <td>104</td>\n",
       "      <td>192</td>\n",
       "      <td>NaN</td>\n",
       "      <td>NaN</td>\n",
       "      <td>NaN</td>\n",
       "    </tr>\n",
       "    <tr>\n",
       "      <th>1</th>\n",
       "      <td>1/1/2013 0:00</td>\n",
       "      <td>Acme</td>\n",
       "      <td>1.0</td>\n",
       "      <td>BlackBerry</td>\n",
       "      <td>0</td>\n",
       "      <td>0</td>\n",
       "      <td>0</td>\n",
       "      <td>13.0</td>\n",
       "      <td>0</td>\n",
       "      <td>0</td>\n",
       "      <td>1</td>\n",
       "      <td>0</td>\n",
       "      <td>NaN</td>\n",
       "      <td>NaN</td>\n",
       "      <td>NaN</td>\n",
       "    </tr>\n",
       "    <tr>\n",
       "      <th>2</th>\n",
       "      <td>1/1/2013 0:00</td>\n",
       "      <td>Sortly</td>\n",
       "      <td>1.0</td>\n",
       "      <td>iPad</td>\n",
       "      <td>0</td>\n",
       "      <td>0</td>\n",
       "      <td>0</td>\n",
       "      <td>98.0</td>\n",
       "      <td>0</td>\n",
       "      <td>0</td>\n",
       "      <td>0</td>\n",
       "      <td>0</td>\n",
       "      <td>NaN</td>\n",
       "      <td>NaN</td>\n",
       "      <td>NaN</td>\n",
       "    </tr>\n",
       "    <tr>\n",
       "      <th>3</th>\n",
       "      <td>1/1/2013 0:00</td>\n",
       "      <td>Acme</td>\n",
       "      <td>1.0</td>\n",
       "      <td>Windows</td>\n",
       "      <td>922</td>\n",
       "      <td>520</td>\n",
       "      <td>527</td>\n",
       "      <td>60753.0</td>\n",
       "      <td>149</td>\n",
       "      <td>610</td>\n",
       "      <td>3914</td>\n",
       "      <td>7367</td>\n",
       "      <td>NaN</td>\n",
       "      <td>NaN</td>\n",
       "      <td>NaN</td>\n",
       "    </tr>\n",
       "    <tr>\n",
       "      <th>4</th>\n",
       "      <td>1/1/2013 0:00</td>\n",
       "      <td>Botly</td>\n",
       "      <td>1.0</td>\n",
       "      <td>Android</td>\n",
       "      <td>11</td>\n",
       "      <td>10</td>\n",
       "      <td>11</td>\n",
       "      <td>1090.0</td>\n",
       "      <td>0</td>\n",
       "      <td>11</td>\n",
       "      <td>4</td>\n",
       "      <td>19</td>\n",
       "      <td>NaN</td>\n",
       "      <td>NaN</td>\n",
       "      <td>NaN</td>\n",
       "    </tr>\n",
       "  </tbody>\n",
       "</table>\n",
       "</div>"
      ],
      "text/plain": [
       "             day    site  new_customer    platform  visits  distinct_sessions  \\\n",
       "0  1/1/2013 0:00    Acme           1.0     Android      24                 16   \n",
       "1  1/1/2013 0:00    Acme           1.0  BlackBerry       0                  0   \n",
       "2  1/1/2013 0:00  Sortly           1.0        iPad       0                  0   \n",
       "3  1/1/2013 0:00    Acme           1.0     Windows     922                520   \n",
       "4  1/1/2013 0:00   Botly           1.0     Android      11                 10   \n",
       "\n",
       "   orders  gross_sales  bounces  add_to_cart  product_page_views  \\\n",
       "0      14       1287.0        4           16                 104   \n",
       "1       0         13.0        0            0                   1   \n",
       "2       0         98.0        0            0                   0   \n",
       "3     527      60753.0      149          610                3914   \n",
       "4      11       1090.0        0           11                   4   \n",
       "\n",
       "   search_page_views  Unnamed: 12  Unnamed: 13  Unnamed: 14  \n",
       "0                192          NaN          NaN          NaN  \n",
       "1                  0          NaN          NaN          NaN  \n",
       "2                  0          NaN          NaN          NaN  \n",
       "3               7367          NaN          NaN          NaN  \n",
       "4                 19          NaN          NaN          NaN  "
      ]
     },
     "execution_count": 40,
     "metadata": {},
     "output_type": "execute_result"
    }
   ],
   "source": [
    "data.head()"
   ]
  },
  {
   "cell_type": "code",
   "execution_count": 41,
   "metadata": {
    "collapsed": false
   },
   "outputs": [
    {
     "data": {
      "text/plain": [
       "Index(['day', 'site', 'new_customer', 'platform', 'visits',\n",
       "       'distinct_sessions', 'orders', 'gross_sales', 'bounces', 'add_to_cart',\n",
       "       'product_page_views', 'search_page_views', 'Unnamed: 12', 'Unnamed: 13',\n",
       "       'Unnamed: 14'],\n",
       "      dtype='object')"
      ]
     },
     "execution_count": 41,
     "metadata": {},
     "output_type": "execute_result"
    }
   ],
   "source": [
    "data.columns"
   ]
  },
  {
   "cell_type": "markdown",
   "metadata": {},
   "source": [
    "### Wrangling the data"
   ]
  },
  {
   "cell_type": "code",
   "execution_count": null,
   "metadata": {
    "collapsed": true
   },
   "outputs": [],
   "source": []
  },
  {
   "cell_type": "code",
   "execution_count": null,
   "metadata": {
    "collapsed": true
   },
   "outputs": [],
   "source": []
  },
  {
   "cell_type": "code",
   "execution_count": null,
   "metadata": {
    "collapsed": true
   },
   "outputs": [],
   "source": []
  },
  {
   "cell_type": "code",
   "execution_count": null,
   "metadata": {
    "collapsed": true
   },
   "outputs": [],
   "source": []
  },
  {
   "cell_type": "markdown",
   "metadata": {},
   "source": [
    "### Rows and columns"
   ]
  },
  {
   "cell_type": "code",
   "execution_count": 42,
   "metadata": {
    "collapsed": false
   },
   "outputs": [
    {
     "data": {
      "text/plain": [
       "(21061, 15)"
      ]
     },
     "execution_count": 42,
     "metadata": {},
     "output_type": "execute_result"
    }
   ],
   "source": [
    "data.shape"
   ]
  },
  {
   "cell_type": "markdown",
   "metadata": {},
   "source": [
    "### Gives Multiple outputs per line"
   ]
  },
  {
   "cell_type": "code",
   "execution_count": 43,
   "metadata": {
    "collapsed": true
   },
   "outputs": [],
   "source": [
    "from IPython.core.interactiveshell import InteractiveShell\n",
    "InteractiveShell.ast_node_interactivity = \"all\""
   ]
  },
  {
   "cell_type": "markdown",
   "metadata": {},
   "source": [
    "## Data Exploration"
   ]
  },
  {
   "cell_type": "code",
   "execution_count": 45,
   "metadata": {
    "collapsed": false
   },
   "outputs": [
    {
     "data": {
      "text/html": [
       "<div>\n",
       "<table border=\"1\" class=\"dataframe\">\n",
       "  <thead>\n",
       "    <tr style=\"text-align: right;\">\n",
       "      <th></th>\n",
       "      <th>new_customer</th>\n",
       "      <th>visits</th>\n",
       "      <th>distinct_sessions</th>\n",
       "      <th>orders</th>\n",
       "      <th>gross_sales</th>\n",
       "      <th>bounces</th>\n",
       "      <th>add_to_cart</th>\n",
       "      <th>product_page_views</th>\n",
       "      <th>search_page_views</th>\n",
       "      <th>Unnamed: 12</th>\n",
       "      <th>Unnamed: 13</th>\n",
       "      <th>Unnamed: 14</th>\n",
       "    </tr>\n",
       "  </thead>\n",
       "  <tbody>\n",
       "    <tr>\n",
       "      <th>count</th>\n",
       "      <td>12802.000000</td>\n",
       "      <td>21061.000000</td>\n",
       "      <td>21061.000000</td>\n",
       "      <td>21061.000000</td>\n",
       "      <td>11485.000000</td>\n",
       "      <td>21061.000000</td>\n",
       "      <td>21061.000000</td>\n",
       "      <td>21061.000000</td>\n",
       "      <td>21061.000000</td>\n",
       "      <td>0.0</td>\n",
       "      <td>0.0</td>\n",
       "      <td>0.0</td>\n",
       "    </tr>\n",
       "    <tr>\n",
       "      <th>mean</th>\n",
       "      <td>0.448055</td>\n",
       "      <td>1934.708039</td>\n",
       "      <td>1515.205024</td>\n",
       "      <td>62.378994</td>\n",
       "      <td>16473.395821</td>\n",
       "      <td>743.282085</td>\n",
       "      <td>166.250890</td>\n",
       "      <td>4358.198234</td>\n",
       "      <td>8584.187788</td>\n",
       "      <td>NaN</td>\n",
       "      <td>NaN</td>\n",
       "      <td>NaN</td>\n",
       "    </tr>\n",
       "    <tr>\n",
       "      <th>std</th>\n",
       "      <td>0.497314</td>\n",
       "      <td>7448.607191</td>\n",
       "      <td>5925.833287</td>\n",
       "      <td>260.279286</td>\n",
       "      <td>51111.354605</td>\n",
       "      <td>3154.697787</td>\n",
       "      <td>505.186834</td>\n",
       "      <td>14327.287354</td>\n",
       "      <td>31120.321365</td>\n",
       "      <td>NaN</td>\n",
       "      <td>NaN</td>\n",
       "      <td>NaN</td>\n",
       "    </tr>\n",
       "    <tr>\n",
       "      <th>min</th>\n",
       "      <td>0.000000</td>\n",
       "      <td>0.000000</td>\n",
       "      <td>0.000000</td>\n",
       "      <td>0.000000</td>\n",
       "      <td>1.000000</td>\n",
       "      <td>0.000000</td>\n",
       "      <td>0.000000</td>\n",
       "      <td>0.000000</td>\n",
       "      <td>0.000000</td>\n",
       "      <td>NaN</td>\n",
       "      <td>NaN</td>\n",
       "      <td>NaN</td>\n",
       "    </tr>\n",
       "    <tr>\n",
       "      <th>25%</th>\n",
       "      <td>0.000000</td>\n",
       "      <td>3.000000</td>\n",
       "      <td>2.000000</td>\n",
       "      <td>0.000000</td>\n",
       "      <td>79.000000</td>\n",
       "      <td>0.000000</td>\n",
       "      <td>0.000000</td>\n",
       "      <td>3.000000</td>\n",
       "      <td>4.000000</td>\n",
       "      <td>NaN</td>\n",
       "      <td>NaN</td>\n",
       "      <td>NaN</td>\n",
       "    </tr>\n",
       "    <tr>\n",
       "      <th>50%</th>\n",
       "      <td>0.000000</td>\n",
       "      <td>24.000000</td>\n",
       "      <td>19.000000</td>\n",
       "      <td>0.000000</td>\n",
       "      <td>851.000000</td>\n",
       "      <td>5.000000</td>\n",
       "      <td>4.000000</td>\n",
       "      <td>53.000000</td>\n",
       "      <td>82.000000</td>\n",
       "      <td>NaN</td>\n",
       "      <td>NaN</td>\n",
       "      <td>NaN</td>\n",
       "    </tr>\n",
       "    <tr>\n",
       "      <th>75%</th>\n",
       "      <td>1.000000</td>\n",
       "      <td>360.000000</td>\n",
       "      <td>274.000000</td>\n",
       "      <td>7.000000</td>\n",
       "      <td>3145.000000</td>\n",
       "      <td>97.000000</td>\n",
       "      <td>43.000000</td>\n",
       "      <td>708.000000</td>\n",
       "      <td>1229.000000</td>\n",
       "      <td>NaN</td>\n",
       "      <td>NaN</td>\n",
       "      <td>NaN</td>\n",
       "    </tr>\n",
       "    <tr>\n",
       "      <th>max</th>\n",
       "      <td>1.000000</td>\n",
       "      <td>136057.000000</td>\n",
       "      <td>107104.000000</td>\n",
       "      <td>4916.000000</td>\n",
       "      <td>707642.000000</td>\n",
       "      <td>54512.000000</td>\n",
       "      <td>7924.000000</td>\n",
       "      <td>187601.000000</td>\n",
       "      <td>506629.000000</td>\n",
       "      <td>NaN</td>\n",
       "      <td>NaN</td>\n",
       "      <td>NaN</td>\n",
       "    </tr>\n",
       "  </tbody>\n",
       "</table>\n",
       "</div>"
      ],
      "text/plain": [
       "       new_customer         visits  distinct_sessions        orders  \\\n",
       "count  12802.000000   21061.000000       21061.000000  21061.000000   \n",
       "mean       0.448055    1934.708039        1515.205024     62.378994   \n",
       "std        0.497314    7448.607191        5925.833287    260.279286   \n",
       "min        0.000000       0.000000           0.000000      0.000000   \n",
       "25%        0.000000       3.000000           2.000000      0.000000   \n",
       "50%        0.000000      24.000000          19.000000      0.000000   \n",
       "75%        1.000000     360.000000         274.000000      7.000000   \n",
       "max        1.000000  136057.000000      107104.000000   4916.000000   \n",
       "\n",
       "         gross_sales       bounces   add_to_cart  product_page_views  \\\n",
       "count   11485.000000  21061.000000  21061.000000        21061.000000   \n",
       "mean    16473.395821    743.282085    166.250890         4358.198234   \n",
       "std     51111.354605   3154.697787    505.186834        14327.287354   \n",
       "min         1.000000      0.000000      0.000000            0.000000   \n",
       "25%        79.000000      0.000000      0.000000            3.000000   \n",
       "50%       851.000000      5.000000      4.000000           53.000000   \n",
       "75%      3145.000000     97.000000     43.000000          708.000000   \n",
       "max    707642.000000  54512.000000   7924.000000       187601.000000   \n",
       "\n",
       "       search_page_views  Unnamed: 12  Unnamed: 13  Unnamed: 14  \n",
       "count       21061.000000          0.0          0.0          0.0  \n",
       "mean         8584.187788          NaN          NaN          NaN  \n",
       "std         31120.321365          NaN          NaN          NaN  \n",
       "min             0.000000          NaN          NaN          NaN  \n",
       "25%             4.000000          NaN          NaN          NaN  \n",
       "50%            82.000000          NaN          NaN          NaN  \n",
       "75%          1229.000000          NaN          NaN          NaN  \n",
       "max        506629.000000          NaN          NaN          NaN  "
      ]
     },
     "execution_count": 45,
     "metadata": {},
     "output_type": "execute_result"
    }
   ],
   "source": [
    "data.describe()"
   ]
  },
  {
   "cell_type": "code",
   "execution_count": null,
   "metadata": {
    "collapsed": true
   },
   "outputs": [],
   "source": []
  }
 ],
 "metadata": {
  "kernelspec": {
   "display_name": "Python 3",
   "language": "python",
   "name": "python3"
  },
  "language_info": {
   "codemirror_mode": {
    "name": "ipython",
    "version": 3
   },
   "file_extension": ".py",
   "mimetype": "text/x-python",
   "name": "python",
   "nbconvert_exporter": "python",
   "pygments_lexer": "ipython3",
   "version": "3.5.1"
  }
 },
 "nbformat": 4,
 "nbformat_minor": 0
}
