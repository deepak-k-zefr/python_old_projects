{
 "cells": [
  {
   "cell_type": "markdown",
   "metadata": {
    "collapsed": true
   },
   "source": [
    "# Pomegrenate "
   ]
  },
  {
   "cell_type": "markdown",
   "metadata": {},
   "source": [
    "Since hidden Markov models are graphical structures, that structure has to be defined. pomegranate allows you to define this structure either through matrices as is common in other packages, or build it up state by state and edge by edge. pomegranate differs from other packages in that it offers both explicit start and end states which you must begin in or end in. Explicit end states give you more control over the model because algorithms require ending there, as opposed to in any state in the model. It also offers silent states, which are states without explicit emission distributions but can be used to significantly simplify the graphical structure."
   ]
  },
  {
   "cell_type": "markdown",
   "metadata": {},
   "source": [
    "# A concrete example"
   ]
  },
  {
   "cell_type": "markdown",
   "metadata": {},
   "source": [
    "Consider two friends, Alice and Bob, who live far apart from each other and who talk together daily over the telephone about what they did that day. Bob is only interested in three activities: walking in the park, shopping, and cleaning his apartment. The choice of what to do is determined exclusively by the weather on a given day. Alice has no definite information about the weather where Bob lives, but she knows general trends. Based on what Bob tells her he did each day, Alice tries to guess what the weather must have been like.\n",
    "\n",
    "Alice believes that the weather operates as a discrete Markov chain. There are two states, \"Rainy\" and \"Sunny\", but she cannot observe them directly, that is, they are hidden from her. On each day, there is a certain chance that Bob will perform one of the following activities, depending on the weather: \"walk\", \"shop\", or \"clean\". Since Bob tells Alice about his activities, those are the observations. The entire system is that of a hidden Markov model (HMM).\n",
    "\n",
    "Alice knows the general weather trends in the area, and what Bob likes to do on average. In other words, the parameters of the HMM are known. They can be represented as follows in Python:\n",
    "\n"
   ]
  },
  {
   "cell_type": "code",
   "execution_count": 6,
   "metadata": {
    "collapsed": false
   },
   "outputs": [
    {
     "name": "stdout",
     "output_type": "stream",
     "text": [
      "Populating the interactive namespace from numpy and matplotlib\n"
     ]
    },
    {
     "name": "stderr",
     "output_type": "stream",
     "text": [
      "/home/deepak/anaconda3/lib/python3.5/site-packages/IPython/core/magics/pylab.py:161: UserWarning: pylab import has clobbered these variables: ['random', 'log']\n",
      "`%matplotlib` prevents importing * from pylab and numpy\n",
      "  \"\\n`%matplotlib` prevents importing * from pylab and numpy\"\n"
     ]
    }
   ],
   "source": [
    "from pomegranate import *\n",
    "import numpy as np\n",
    "%pylab inline"
   ]
  },
  {
   "cell_type": "markdown",
   "metadata": {},
   "source": [
    "Example rainy-sunny HMM using yahmm. Example drawn from the wikipedia HMM\n",
    "article: http://en.wikipedia.org/wiki/Hidden_Markov_model describing what\n",
    "Bob likes to do on rainy or sunny days.\n"
   ]
  },
  {
   "cell_type": "code",
   "execution_count": 1,
   "metadata": {
    "collapsed": false
   },
   "outputs": [
    {
     "name": "stdout",
     "output_type": "stream",
     "text": [
      "Populating the interactive namespace from numpy and matplotlib\n"
     ]
    },
    {
     "name": "stderr",
     "output_type": "stream",
     "text": [
      "/home/deepak/anaconda3/lib/python3.5/site-packages/IPython/core/magics/pylab.py:161: UserWarning: pylab import has clobbered these variables: ['random']\n",
      "`%matplotlib` prevents importing * from pylab and numpy\n",
      "  \"\\n`%matplotlib` prevents importing * from pylab and numpy\"\n"
     ]
    }
   ],
   "source": [
    "import random\n",
    "import math\n",
    "%pylab inline\n",
    "from pomegranate import *\n",
    "random.seed(0)"
   ]
  },
  {
   "cell_type": "markdown",
   "metadata": {},
   "source": [
    "# Initialize Model"
   ]
  },
  {
   "cell_type": "code",
   "execution_count": 2,
   "metadata": {
    "collapsed": false
   },
   "outputs": [
    {
     "data": {
      "text/plain": [
       "pomegranate.hmm.HiddenMarkovModel"
      ]
     },
     "execution_count": 2,
     "metadata": {},
     "output_type": "execute_result"
    }
   ],
   "source": [
    "# Create a HMM \n",
    "model = HiddenMarkovModel()\n",
    "type(model)"
   ]
  },
  {
   "cell_type": "markdown",
   "metadata": {},
   "source": [
    "# Emission probabilities\n"
   ]
  },
  {
   "cell_type": "code",
   "execution_count": 3,
   "metadata": {
    "collapsed": true
   },
   "outputs": [],
   "source": [
    "# Specify probabilties of different activities given the hidden state\n",
    "rainy = State( DiscreteDistribution({ 'walk': 0.1, 'shop': 0.4, 'clean': 0.5 }),name='Rainy' )\n",
    "sunny = State( DiscreteDistribution({ 'walk': 0.6, 'shop': 0.3, 'clean': 0.1 }),name='Sunny' )"
   ]
  },
  {
   "cell_type": "code",
   "execution_count": 4,
   "metadata": {
    "collapsed": false
   },
   "outputs": [
    {
     "data": {
      "text/plain": [
       "pomegranate.hmm.HiddenMarkovModel"
      ]
     },
     "execution_count": 4,
     "metadata": {},
     "output_type": "execute_result"
    }
   ],
   "source": [
    "# Look at type of Hidden States\n",
    "type(rainy)\n",
    "type(model)"
   ]
  },
  {
   "cell_type": "markdown",
   "metadata": {},
   "source": [
    "# Initial Distribution"
   ]
  },
  {
   "cell_type": "code",
   "execution_count": 5,
   "metadata": {
    "collapsed": false
   },
   "outputs": [],
   "source": [
    "# What is the probabilty of any given day being Sunny or Rainy\n",
    "model.add_transition( model.start, rainy, 0.6 )\n",
    "model.add_transition( model.start, sunny, 0.4 )"
   ]
  },
  {
   "cell_type": "markdown",
   "metadata": {},
   "source": [
    "# Transition matrix\n",
    "(with 0.05 subtracted from each probability to add to the probability of exiting the hmm)"
   ]
  },
  {
   "cell_type": "code",
   "execution_count": 48,
   "metadata": {
    "collapsed": false
   },
   "outputs": [],
   "source": [
    "# The Proabilty of transition of different combinations between Raainy and Sunny\n",
    "model.add_transition( rainy, rainy, 0.65 )\n",
    "model.add_transition( rainy, sunny, 0.25 )\n",
    "model.add_transition( sunny, rainy, 0.35 )\n",
    "model.add_transition( sunny, sunny, 0.55 )"
   ]
  },
  {
   "cell_type": "markdown",
   "metadata": {},
   "source": [
    "# Add transitions to the end of the model"
   ]
  },
  {
   "cell_type": "code",
   "execution_count": 49,
   "metadata": {
    "collapsed": true
   },
   "outputs": [],
   "source": [
    "# add transition values to the end of the model\n",
    "model.add_transition( rainy, model.end, 0.1 )\n",
    "model.add_transition( sunny, model.end, 0.1 )"
   ]
  },
  {
   "cell_type": "code",
   "execution_count": 50,
   "metadata": {
    "collapsed": false
   },
   "outputs": [],
   "source": [
    "# Finalize the model structure\n",
    "model.bake(verbose=True)"
   ]
  },
  {
   "cell_type": "code",
   "execution_count": 51,
   "metadata": {
    "collapsed": false
   },
   "outputs": [
    {
     "name": "stdout",
     "output_type": "stream",
     "text": [
      "['walk']\n"
     ]
    }
   ],
   "source": [
    "# Lets sample from this model.\n",
    "print (model.sample())"
   ]
  },
  {
   "cell_type": "code",
   "execution_count": 52,
   "metadata": {
    "collapsed": false
   },
   "outputs": [
    {
     "data": {
      "text/plain": [
       "18"
      ]
     },
     "execution_count": 52,
     "metadata": {},
     "output_type": "execute_result"
    }
   ],
   "source": [
    "len(model.sample())"
   ]
  },
  {
   "cell_type": "markdown",
   "metadata": {},
   "source": [
    "\n",
    "# Lets call Bob every hour and see what he's doing!\n"
   ]
  },
  {
   "cell_type": "code",
   "execution_count": 67,
   "metadata": {
    "collapsed": true
   },
   "outputs": [],
   "source": [
    "# (aka build up a sequence of observations)\n",
    "sequence = [ 'walk', 'shop', 'clean', 'clean', 'clean', 'walk', 'clean' ]\n",
    "#sequence = [ 'clean']"
   ]
  },
  {
   "cell_type": "markdown",
   "metadata": {},
   "source": [
    "# Calculating Probabilities | Sequence"
   ]
  },
  {
   "cell_type": "code",
   "execution_count": 68,
   "metadata": {
    "collapsed": false
   },
   "outputs": [
    {
     "name": "stdout",
     "output_type": "stream",
     "text": [
      "Probability of Sequence:  1.8545269908e-05\n"
     ]
    }
   ],
   "source": [
    "print (\"Probability of Sequence: \", \\\n",
    "\tmath.e**model.forward( sequence )[ len(sequence), model.end_index ])"
   ]
  },
  {
   "cell_type": "code",
   "execution_count": 69,
   "metadata": {
    "collapsed": false
   },
   "outputs": [
    {
     "name": "stdout",
     "output_type": "stream",
     "text": [
      "Probability of Cleaning at Time Step 3 Given This Sequence:  0.936369043759\n"
     ]
    }
   ],
   "source": [
    "print (\"Probability of Cleaning at Time Step 3 Given This Sequence: \",\\\n",
    "       str(math.e**model.forward_backward( sequence )[1][ 3, model.states.index( rainy ) ]))"
   ]
  },
  {
   "cell_type": "code",
   "execution_count": 76,
   "metadata": {
    "collapsed": false
   },
   "outputs": [
    {
     "name": "stdout",
     "output_type": "stream",
     "text": [
      "Probability of the Sequence Given It's Sunny at Time Step 4:  0.0014867\n"
     ]
    }
   ],
   "source": [
    "print (\"Probability of the Sequence Given It's Sunny at Time Step 4: \", \\\n",
    "\tmath.e**model.backward( sequence )[ 4, model.states.index( sunny ) ])"
   ]
  },
  {
   "cell_type": "code",
   "execution_count": 71,
   "metadata": {
    "collapsed": false
   },
   "outputs": [
    {
     "data": {
      "text/plain": [
       "array([[ 0.65,  0.25,  0.  ,  0.1 ],\n",
       "       [ 0.35,  0.55,  0.  ,  0.1 ],\n",
       "       [ 0.6 ,  0.4 ,  0.  ,  0.  ],\n",
       "       [ 0.  ,  0.  ,  0.  ,  0.  ]])"
      ]
     },
     "execution_count": 71,
     "metadata": {},
     "output_type": "execute_result"
    }
   ],
   "source": [
    "model.dense_transition_matrix()"
   ]
  },
  {
   "cell_type": "markdown",
   "metadata": {},
   "source": [
    "### Function to plot Graph"
   ]
  },
  {
   "cell_type": "code",
   "execution_count": 72,
   "metadata": {
    "collapsed": true
   },
   "outputs": [],
   "source": [
    "def plot_hmm(hmm):\n",
    "    state_to_label = {s: s.name for i,s in enumerate(hmm.states)}\n",
    "    nx.draw_networkx(hmm.graph, labels=state_to_label)"
   ]
  },
  {
   "cell_type": "code",
   "execution_count": 74,
   "metadata": {
    "collapsed": false
   },
   "outputs": [
    {
     "data": {
      "image/png": "[encoded data removed]",
      "text/plain": [
       "<matplotlib.figure.Figure at 0x7f5fabac5be0>"
      ]
     },
     "metadata": {},
     "output_type": "display_data"
    }
   ],
   "source": [
    "import networkx as x\n",
    "import seaborn as sns\n",
    "plot_hmm(model)"
   ]
  },
  {
   "cell_type": "code",
   "execution_count": 38,
   "metadata": {
    "collapsed": false
   },
   "outputs": [
    {
     "data": {
      "text/plain": [
       "[{\n",
       "     \"distribution\" : {\n",
       "         \"parameters\" : [\n",
       "             {\n",
       "                 \"clean\" : 0.5,\n",
       "                 \"shop\" : 0.4,\n",
       "                 \"walk\" : 0.1\n",
       "             }\n",
       "         ],\n",
       "         \"frozen\" : false,\n",
       "         \"class\" : \"Distribution\",\n",
       "         \"name\" : \"DiscreteDistribution\"\n",
       "     },\n",
       "     \"weight\" : 1.0,\n",
       "     \"class\" : \"State\",\n",
       "     \"name\" : \"Rainy\"\n",
       " }, {\n",
       "     \"distribution\" : {\n",
       "         \"parameters\" : [\n",
       "             {\n",
       "                 \"clean\" : 0.1,\n",
       "                 \"shop\" : 0.3,\n",
       "                 \"walk\" : 0.6\n",
       "             }\n",
       "         ],\n",
       "         \"frozen\" : false,\n",
       "         \"class\" : \"Distribution\",\n",
       "         \"name\" : \"DiscreteDistribution\"\n",
       "     },\n",
       "     \"weight\" : 1.0,\n",
       "     \"class\" : \"State\",\n",
       "     \"name\" : \"Sunny\"\n",
       " }, {\n",
       "     \"distribution\" : null,\n",
       "     \"weight\" : 1.0,\n",
       "     \"class\" : \"State\",\n",
       "     \"name\" : \"None-start\"\n",
       " }, {\n",
       "     \"distribution\" : null,\n",
       "     \"weight\" : 1.0,\n",
       "     \"class\" : \"State\",\n",
       "     \"name\" : \"None-end\"\n",
       " }]"
      ]
     },
     "execution_count": 38,
     "metadata": {},
     "output_type": "execute_result"
    }
   ],
   "source": [
    "model.states"
   ]
  },
  {
   "cell_type": "markdown",
   "metadata": {},
   "source": [
    "# Viterbi Algorithm"
   ]
  },
  {
   "cell_type": "markdown",
   "metadata": {},
   "source": [
    "Consider a village where all villagers are either healthy or have a fever and only the village doctor can determine whether each has a fever. The doctor diagnoses fever by asking patients how they feel. The villagers may only answer that they feel normal, dizzy, or cold.\n",
    "\n",
    "The doctor believes that the health condition of his patients operate as a discrete Markov chain. There are two states, \"Healthy\" and \"Fever\", but the doctor cannot observe them directly; they are hidden from him. On each day, there is a certain chance that the patient will tell the doctor he/she is \"normal\", \"cold\", or \"dizzy\", depending on her health condition.\n",
    "\n",
    "The observations (normal, cold, dizzy) along with a hidden state (healthy, fever) form a hidden Markov model (HMM), and can be represented as follows in the Python programming language:"
   ]
  },
  {
   "cell_type": "markdown",
   "metadata": {},
   "source": [
    "The patient visits three days in a row and the doctor discovers that on the first day she feels normal, on the second day she feels cold, on the third day she feels dizzy. The doctor has a question: what is the most likely sequence of health conditions of the patient that would explain these observations? This is answered by the Viterbi algorithm."
   ]
  },
  {
   "cell_type": "markdown",
   "metadata": {},
   "source": [
    "# Initial Values"
   ]
  },
  {
   "cell_type": "code",
   "execution_count": 77,
   "metadata": {
    "collapsed": true
   },
   "outputs": [],
   "source": [
    "states = ('Healthy', 'Fever')\n",
    "observations = ('normal', 'cold', 'dizzy')\n",
    "start_probability = {'Healthy': 0.6, 'Fever': 0.4}"
   ]
  },
  {
   "cell_type": "markdown",
   "metadata": {},
   "source": [
    "# Probabilities"
   ]
  },
  {
   "cell_type": "code",
   "execution_count": 78,
   "metadata": {
    "collapsed": true
   },
   "outputs": [],
   "source": [
    "transition_probability = {\n",
    "'Healthy' : {'Healthy': 0.7, 'Fever': 0.3},\n",
    "'Fever' : {'Healthy': 0.4, 'Fever': 0.6}    }\n",
    "\n",
    "emission_probability = {\n",
    "    'Healthy' : {'normal': 0.5, 'cold': 0.4, 'dizzy': 0.1},\n",
    "    'Fever' : {'normal': 0.1, 'cold': 0.3, 'dizzy': 0.6}\n",
    "    }"
   ]
  },
  {
   "cell_type": "markdown",
   "metadata": {},
   "source": [
    "\n",
    "# Viterbi from Scratch"
   ]
  },
  {
   "cell_type": "code",
   "execution_count": 92,
   "metadata": {
    "collapsed": false
   },
   "outputs": [
    {
     "data": {
      "text/plain": [
       "0.1"
      ]
     },
     "execution_count": 92,
     "metadata": {},
     "output_type": "execute_result"
    }
   ],
   "source": [
    "emit_p['Fever'][obs[0]]"
   ]
  },
  {
   "cell_type": "code",
   "execution_count": 94,
   "metadata": {
    "collapsed": false
   },
   "outputs": [],
   "source": [
    "V = [{}]\n",
    "path = {}\n",
    " \n",
    "start_p=start_probability\n",
    "emit_p=emission_probability\n",
    "obs=observations\n",
    "trans_p=transition_probability\n",
    "    \n",
    "for y in states:\n",
    "    V[0][y] = start_p[y] * emit_p[y][obs[0]]\n",
    "    path[y] = [y]\n",
    " "
   ]
  },
  {
   "cell_type": "code",
   "execution_count": 95,
   "metadata": {
    "collapsed": false
   },
   "outputs": [
    {
     "data": {
      "text/plain": [
       "[{'Fever': 0.04000000000000001, 'Healthy': 0.3}]"
      ]
     },
     "execution_count": 95,
     "metadata": {},
     "output_type": "execute_result"
    }
   ],
   "source": [
    "V"
   ]
  },
  {
   "cell_type": "code",
   "execution_count": 96,
   "metadata": {
    "collapsed": false
   },
   "outputs": [],
   "source": [
    "for t in range(1, len(obs)):\n",
    "        V.append({})\n",
    "        newpath = {}\n",
    " \n",
    "        for y in states:\n",
    "            (prob, state) = max((V[t-1][y0] * trans_p[y0][y] * emit_p[y][obs[t]], y0) for y0 in states)\n",
    "            V[t][y] = prob\n",
    "            newpath[y] = path[state] + [y]\n",
    " "
   ]
  },
  {
   "cell_type": "code",
   "execution_count": 98,
   "metadata": {
    "collapsed": false
   },
   "outputs": [
    {
     "data": {
      "text/plain": [
       "{'Fever': ['Healthy', 'Fever'], 'Healthy': ['Healthy', 'Healthy']}"
      ]
     },
     "execution_count": 98,
     "metadata": {},
     "output_type": "execute_result"
    }
   ],
   "source": [
    "newpath"
   ]
  },
  {
   "cell_type": "code",
   "execution_count": 97,
   "metadata": {
    "collapsed": false
   },
   "outputs": [
    {
     "data": {
      "text/plain": [
       "[{'Fever': 0.04000000000000001, 'Healthy': 0.3},\n",
       " {'Fever': 0.027, 'Healthy': 0.084},\n",
       " {'Fever': 0.01512, 'Healthy': 0.00588}]"
      ]
     },
     "execution_count": 97,
     "metadata": {},
     "output_type": "execute_result"
    }
   ],
   "source": [
    "V"
   ]
  },
  {
   "cell_type": "code",
   "execution_count": 102,
   "metadata": {
    "collapsed": false
   },
   "outputs": [
    {
     "data": {
      "text/plain": [
       "(0.01512, 'Fever')"
      ]
     },
     "execution_count": 102,
     "metadata": {},
     "output_type": "execute_result"
    }
   ],
   "source": [
    "n=2\n",
    "max((V[n][y], y) for y in states)"
   ]
  },
  {
   "cell_type": "code",
   "execution_count": 105,
   "metadata": {
    "collapsed": true
   },
   "outputs": [],
   "source": [
    "def viterbi(obs, states, start_p, trans_p, emit_p):\n",
    "    V = [{}]\n",
    "    path = {}\n",
    " \n",
    "    # Initialize base cases (t == 0)\n",
    "    for y in states:\n",
    "        V[0][y] = start_p[y] * emit_p[y][obs[0]]\n",
    "        path[y] = [y]\n",
    " \n",
    "    # Run Viterbi for t > 0\n",
    "    for t in range(1, len(obs)):\n",
    "        V.append({})\n",
    "        newpath = {}\n",
    " \n",
    "        for y in states:\n",
    "            (prob, state) = max((V[t-1][y0] * trans_p[y0][y] * emit_p[y][obs[t]], y0) for y0 in states)\n",
    "            V[t][y] = prob\n",
    "            newpath[y] = path[state] + [y]\n",
    " \n",
    "        # Don't need to remember the old paths\n",
    "        path = newpath\n",
    "    n = 0           # if only one element is observed max is sought in the initialization values\n",
    "    if len(obs) != 1:\n",
    "        n = t\n",
    "    print_dptable(V)\n",
    "    (prob, state) = max((V[n][y], y) for y in states)\n",
    "    return (prob, path[state])"
   ]
  },
  {
   "cell_type": "code",
   "execution_count": 106,
   "metadata": {
    "collapsed": true
   },
   "outputs": [],
   "source": [
    "def print_dptable(V):\n",
    "    s = \"    \" + \" \".join((\"%7d\" % i) for i in range(len(V))) + \"\\n\"\n",
    "    for y in V[0]:\n",
    "        s += \"%.5s: \" % y\n",
    "        s += \" \".join(\"%.7s\" % (\"%f\" % v[y]) for v in V)\n",
    "        s += \"\\n\"\n",
    "    print(s)"
   ]
  },
  {
   "cell_type": "code",
   "execution_count": 107,
   "metadata": {
    "collapsed": false
   },
   "outputs": [
    {
     "name": "stdout",
     "output_type": "stream",
     "text": [
      "          0       1       2\n",
      "Healt: 0.30000 0.08400 0.00588\n",
      "Fever: 0.04000 0.02700 0.01512\n",
      "\n",
      "(0.01512, ['Healthy', 'Healthy', 'Fever'])\n"
     ]
    }
   ],
   "source": [
    "def example():\n",
    "    return viterbi(observations,\n",
    "                   states,\n",
    "                   start_probability,\n",
    "                   transition_probability,\n",
    "                   emission_probability)\n",
    "print(example())"
   ]
  },
  {
   "cell_type": "code",
   "execution_count": null,
   "metadata": {
    "collapsed": true
   },
   "outputs": [],
   "source": []
  }
 ],
 "metadata": {
  "anaconda-cloud": {},
  "kernelspec": {
   "display_name": "Python [default]",
   "language": "python",
   "name": "python3"
  },
  "language_info": {
   "codemirror_mode": {
    "name": "ipython",
    "version": 3
   },
   "file_extension": ".py",
   "mimetype": "text/x-python",
   "name": "python",
   "nbconvert_exporter": "python",
   "pygments_lexer": "ipython3",
   "version": "3.5.2"
  }
 },
 "nbformat": 4,
 "nbformat_minor": 1
}
