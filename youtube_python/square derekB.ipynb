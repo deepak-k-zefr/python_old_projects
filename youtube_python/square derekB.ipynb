{
 "cells": [
  {
   "cell_type": "code",
   "execution_count": 7,
   "metadata": {
    "collapsed": false
   },
   "outputs": [],
   "source": [
    "class square:\n",
    "    def __init(self,height='0',width='0'):\n",
    "        self.height=height\n",
    "        self.width=width\n",
    "        @property\n",
    "        def height(self):\n",
    "            print(\"Retriveing height\")\n",
    "            return self.__height\n",
    "\n",
    "        @height.setter\n",
    "        def  height(self,value):\n",
    "            if value.isdigit():\n",
    "                self.__height=value\n",
    "            else:\n",
    "                print(\"Enter a number please\")\n",
    "                \n",
    "        @property\n",
    "        def  width(self):\n",
    "            print(\"Retriveing height\")\n",
    "            return self.__width\n",
    "\n",
    "        @height.setter\n",
    "        def width(self,value):\n",
    "            if value.isdigit():\n",
    "                self.__width=value\n",
    "            else:\n",
    "                print(\"Enter a number please\")\n",
    "        #def getArea(self):\n",
    "            #return int(self.__width)*int(self.__height)\n",
    "        def getArea(self):\n",
    "            return int(self.__width) * int(self.__height)\n",
    " "
   ]
  },
  {
   "cell_type": "markdown",
   "metadata": {
    "collapsed": true
   },
   "source": [
    "def main():\n",
    "    asquare=square()\n",
    "    height=input(\"Enter height\")\n",
    "    width=input(\"Enter Width\")\n",
    "    asquare.height=height\n",
    "    asquare.width=width\n",
    "    print(\"Heiht is   :\",asquare.height)\n",
    "    print(\"Width is \",asquare.width)\n",
    "    #print(\"Area is :\",asquare.getArea())"
   ]
  },
  {
   "cell_type": "code",
   "execution_count": 8,
   "metadata": {
    "collapsed": false
   },
   "outputs": [
    {
     "name": "stdout",
     "output_type": "stream",
     "text": [
      "Enter height10\n",
      "Enter Width10\n",
      "Heiht is   : 10\n",
      "Width is  10\n"
     ]
    }
   ],
   "source": [
    "asquare=square()\n",
    "height=input(\"Enter height\")\n",
    "width=input(\"Enter Width\")\n",
    "asquare.height=height\n",
    "asquare.width=width\n",
    "print(\"Heiht is   :\",asquare.height)\n",
    "print(\"Width is \",asquare.width)"
   ]
  },
  {
   "cell_type": "code",
   "execution_count": 12,
   "metadata": {
    "collapsed": false
   },
   "outputs": [
    {
     "ename": "NameError",
     "evalue": "name 'Square' is not defined",
     "output_type": "error",
     "traceback": [
      "\u001b[1;31m---------------------------------------------------------------------------\u001b[0m",
      "\u001b[1;31mNameError\u001b[0m                                 Traceback (most recent call last)",
      "\u001b[1;32m<ipython-input-12-039f0018a6db>\u001b[0m in \u001b[0;36m<module>\u001b[1;34m()\u001b[0m\n\u001b[0;32m     14\u001b[0m     \u001b[0masquare\u001b[0m\u001b[1;33m\u001b[0m\u001b[0m\n\u001b[0;32m     15\u001b[0m \u001b[1;33m\u001b[0m\u001b[0m\n\u001b[1;32m---> 16\u001b[1;33m \u001b[0mmain\u001b[0m\u001b[1;33m(\u001b[0m\u001b[1;33m)\u001b[0m\u001b[1;33m\u001b[0m\u001b[0m\n\u001b[0m",
      "\u001b[1;32m<ipython-input-12-039f0018a6db>\u001b[0m in \u001b[0;36mmain\u001b[1;34m()\u001b[0m\n\u001b[0;32m      1\u001b[0m \u001b[1;32mdef\u001b[0m \u001b[0mmain\u001b[0m\u001b[1;33m(\u001b[0m\u001b[1;33m)\u001b[0m\u001b[1;33m:\u001b[0m\u001b[1;33m\u001b[0m\u001b[0m\n\u001b[1;32m----> 2\u001b[1;33m     \u001b[0maSquare\u001b[0m \u001b[1;33m=\u001b[0m \u001b[0mSquare\u001b[0m\u001b[1;33m(\u001b[0m\u001b[1;33m)\u001b[0m\u001b[1;33m\u001b[0m\u001b[0m\n\u001b[0m\u001b[0;32m      3\u001b[0m \u001b[1;33m\u001b[0m\u001b[0m\n\u001b[0;32m      4\u001b[0m     \u001b[0mheight\u001b[0m \u001b[1;33m=\u001b[0m \u001b[0minput\u001b[0m\u001b[1;33m(\u001b[0m\u001b[1;34m\"Enter height : \"\u001b[0m\u001b[1;33m)\u001b[0m\u001b[1;33m\u001b[0m\u001b[0m\n\u001b[0;32m      5\u001b[0m     \u001b[0mwidth\u001b[0m \u001b[1;33m=\u001b[0m \u001b[0minput\u001b[0m\u001b[1;33m(\u001b[0m\u001b[1;34m\"Enter width : \"\u001b[0m\u001b[1;33m)\u001b[0m\u001b[1;33m\u001b[0m\u001b[0m\n",
      "\u001b[1;31mNameError\u001b[0m: name 'Square' is not defined"
     ]
    }
   ],
   "source": [
    "def main():\n",
    "    aSquare = Square()\n",
    " \n",
    "    height = input(\"Enter height : \")\n",
    "    width = input(\"Enter width : \")\n",
    " \n",
    "    aSquare.height = height\n",
    "    aSquare.width = width\n",
    " \n",
    "    print(\"Height :\", aSquare.height)\n",
    "    print(\"Width :\", aSquare.width)\n",
    " \n",
    "    print(\"The Area is :\", aSquare.getArea())\n",
    "    asquare\n",
    " \n",
    "main()"
   ]
  },
  {
   "cell_type": "code",
   "execution_count": 11,
   "metadata": {
    "collapsed": false
   },
   "outputs": [
    {
     "data": {
      "text/plain": [
       "<__main__.square at 0x4755b70>"
      ]
     },
     "execution_count": 11,
     "metadata": {},
     "output_type": "execute_result"
    }
   ],
   "source": [
    "asquare"
   ]
  },
  {
   "cell_type": "code",
   "execution_count": null,
   "metadata": {
    "collapsed": true
   },
   "outputs": [],
   "source": []
  }
 ],
 "metadata": {
  "kernelspec": {
   "display_name": "Python 3",
   "language": "python",
   "name": "python3"
  },
  "language_info": {
   "codemirror_mode": {
    "name": "ipython",
    "version": 3
   },
   "file_extension": ".py",
   "mimetype": "text/x-python",
   "name": "python",
   "nbconvert_exporter": "python",
   "pygments_lexer": "ipython3",
   "version": "3.5.1"
  }
 },
 "nbformat": 4,
 "nbformat_minor": 0
}
