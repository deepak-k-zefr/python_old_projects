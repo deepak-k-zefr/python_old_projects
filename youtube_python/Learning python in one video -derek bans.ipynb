{
 "cells": [
  {
   "cell_type": "code",
   "execution_count": 10,
   "metadata": {
    "collapsed": false
   },
   "outputs": [
    {
     "name": "stdout",
     "output_type": "stream",
     "text": [
      "3\n",
      "64\n",
      "55\n",
      "68\n",
      "99\n",
      "17\n",
      "5\n",
      "7\n",
      "80\n",
      "74\n",
      "10\n",
      "20\n",
      "49\n",
      "87\n",
      "89\n",
      "87\n",
      "14\n",
      "38\n",
      "28\n",
      "38\n",
      "9\n",
      "81\n",
      "14\n",
      "6\n"
     ]
    }
   ],
   "source": [
    "import random\n",
    "random_num=3;\n",
    "while(random_num!=15):\n",
    " print(random_num) \n",
    " random_num=random.randrange(0,100)"
   ]
  },
  {
   "cell_type": "code",
   "execution_count": 39,
   "metadata": {
    "collapsed": false
   },
   "outputs": [
    {
     "name": "stdout",
     "output_type": "stream",
     "text": [
      "101\n",
      "2\n",
      "103\n",
      "4\n",
      "105\n",
      "6\n",
      "107\n",
      "8\n",
      "81\n",
      "10\n",
      "111\n",
      "12\n",
      "113\n",
      "14\n",
      "115\n",
      "16\n",
      "117\n",
      "18\n",
      "119\n",
      "20\n",
      "121\n"
     ]
    }
   ],
   "source": [
    "#while loops\n",
    "i=0;\n",
    "while(i<=20):\n",
    "   i+=1;\n",
    "   if (i%2==0):\n",
    "        print(i)\n",
    "   elif(i==9):\n",
    "        print(i*i)\n",
    "   else:\n",
    "        print(i+100)\n",
    "  \n",
    "    \n"
   ]
  },
  {
   "cell_type": "code",
   "execution_count": 41,
   "metadata": {
    "collapsed": false
   },
   "outputs": [
    {
     "name": "stdout",
     "output_type": "stream",
     "text": [
      "301\n"
     ]
    }
   ],
   "source": [
    "#function\n",
    "def addNumber(fnum,lnum):\n",
    " sumNum=fnum+lnum\n",
    " return sumNum\n",
    "print(addNumber(1,300))\n"
   ]
  },
  {
   "cell_type": "code",
   "execution_count": 46,
   "metadata": {
    "collapsed": false
   },
   "outputs": [
    {
     "name": "stdout",
     "output_type": "stream",
     "text": [
      "What is your name?\n",
      "hello   \n"
     ]
    }
   ],
   "source": [
    "#user imput\n",
    "import sys\n",
    "print(\"What is your name?\")\n",
    "name=sys.stdin.readline()\n",
    "print('hello  ',name)"
   ]
  },
  {
   "cell_type": "code",
   "execution_count": 54,
   "metadata": {
    "collapsed": false,
    "scrolled": true
   },
   "outputs": [
    {
     "name": "stdout",
     "output_type": "stream",
     "text": [
      "fgdb\n",
      "f gfg\n",
      "fgdbgvdg   fg f  d f df dfg d g\n",
      "fgdbbe there\n",
      "%c is my %s letter a nd my number %d number is %.5f ('x', 'favorite', 1, 0.14)\n"
     ]
    }
   ],
   "source": [
    "#playing with strings\n",
    "long_string='fgdbgvdg   fg f  d f df dfg d gf gfg'\n",
    "print(long_string[0:4])\n",
    "print(long_string[-5:])\n",
    "print(long_string[:-5]) # everythiong upto last 5 characters\n",
    "print(long_string[:4]+'be there')\n",
    "print(\"%c is my %s letter a nd my number %d number is %.5f\",('x','favorite',1,.14))"
   ]
  },
  {
   "cell_type": "code",
   "execution_count": 53,
   "metadata": {
    "collapsed": false
   },
   "outputs": [
    {
     "name": "stdout",
     "output_type": "stream",
     "text": [
      "x is my favorite letter a nd my number 1 number is 0.14000 \n"
     ]
    }
   ],
   "source": [
    "print(\"%c is my %s letter a nd my number %d number is %.5f \"%('x','favorite',1,.14))"
   ]
  },
  {
   "cell_type": "code",
   "execution_count": 65,
   "metadata": {
    "collapsed": false
   },
   "outputs": [
    {
     "name": "stdout",
     "output_type": "stream",
     "text": [
      "Fgdbgvdg   fg f  d f df dfg d gf gfg\n",
      "0\n",
      "False\n",
      "False\n",
      "36\n",
      "deepakdbgvdg   deepak f  d f df ddeepak d gf gdeepak\n",
      "fgdbgvdg   fg f  d f df dfg d gf gfg\n",
      "['fgdbgvdg', '', '', 'fg', 'f', '', 'd', 'f', 'df', 'dfg', 'd', 'gf', 'gfg']\n"
     ]
    }
   ],
   "source": [
    "# capitalize\n",
    "print(long_string.capitalize())\n",
    "print(long_string.find('fg'))\n",
    "print(long_string.isalpha())\n",
    "print(long_string.isalnum())\n",
    "print(len(long_string))\n",
    "print(long_string.replace('fg','deepak'))\n",
    "print(long_string.strip())\n",
    "quotes_list=(long_string.split(\" \"))\n",
    "print(quotes_list)"
   ]
  },
  {
   "cell_type": "code",
   "execution_count": 74,
   "metadata": {
    "collapsed": false
   },
   "outputs": [
    {
     "name": "stdout",
     "output_type": "stream",
     "text": [
      "wb\n"
     ]
    }
   ],
   "source": [
    "#file IO\n",
    "test_file=open('test.txt','wb')\n",
    "# wb- write to file\n",
    "print(test_file.mode)\n",
    "test_file.write(bytes('dkfjcdkfjdk\\n','UTF-8'))\n",
    "test_file.close()"
   ]
  },
  {
   "cell_type": "code",
   "execution_count": 79,
   "metadata": {
    "collapsed": false
   },
   "outputs": [
    {
     "name": "stdout",
     "output_type": "stream",
     "text": [
      "dkfjcdkfjdk\n",
      "\n"
     ]
    }
   ],
   "source": [
    "import os\n",
    "\n",
    "test_file=open('test.txt','r+')\n",
    "test_infile=test_file.read()\n",
    "print(test_infile)\n",
    "#os.remove('test.txt)"
   ]
  },
  {
   "cell_type": "code",
   "execution_count": 85,
   "metadata": {
    "collapsed": false
   },
   "outputs": [
    {
     "ename": "SyntaxError",
     "evalue": "can't assign to operator (<ipython-input-85-793e1ca3e165>, line 7)",
     "output_type": "error",
     "traceback": [
      "\u001b[1;36m  File \u001b[1;32m\"<ipython-input-85-793e1ca3e165>\"\u001b[1;36m, line \u001b[1;32m7\u001b[0m\n\u001b[1;33m    --height=0\u001b[0m\n\u001b[1;37m    ^\u001b[0m\n\u001b[1;31mSyntaxError\u001b[0m\u001b[1;31m:\u001b[0m can't assign to operator\n"
     ]
    }
   ],
   "source": [
    "#  oop\n",
    "import random\n",
    "import sys\n",
    "import os\n",
    "class Animal:\n",
    "    #--name=\" \"\n",
    "    --height=0\n",
    "    --weight=0\n",
    "    --sound=0\n",
    "    def ++\n",
    "    def set_name(self,name):\n",
    "        self.__name=name\n",
    "    def get_name(self):\n",
    "        return self.--name\n",
    "    \n",
    "    \n",
    "  #constructor\n",
    "\n",
    "  "
   ]
  },
  {
   "cell_type": "code",
   "execution_count": null,
   "metadata": {
    "collapsed": true
   },
   "outputs": [],
   "source": []
  }
 ],
 "metadata": {
  "kernelspec": {
   "display_name": "Python 3",
   "language": "python",
   "name": "python3"
  },
  "language_info": {
   "codemirror_mode": {
    "name": "ipython",
    "version": 3
   },
   "file_extension": ".py",
   "mimetype": "text/x-python",
   "name": "python",
   "nbconvert_exporter": "python",
   "pygments_lexer": "ipython3",
   "version": "3.5.1"
  }
 },
 "nbformat": 4,
 "nbformat_minor": 0
}
