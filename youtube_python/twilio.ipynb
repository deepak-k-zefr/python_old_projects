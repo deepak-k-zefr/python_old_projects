{
 "cells": [
  {
   "cell_type": "code",
   "execution_count": 2,
   "metadata": {
    "collapsed": false
   },
   "outputs": [],
   "source": [
    "from twilio.rest import TwilioRestClient\n",
    "\n"
   ]
  },
  {
   "cell_type": "code",
   "execution_count": 5,
   "metadata": {
    "collapsed": false
   },
   "outputs": [
    {
     "name": "stdout",
     "output_type": "stream",
     "text": [
      "SM131d07481ae447be8646858a6270f810\n"
     ]
    }
   ],
   "source": [
    "account_sid = \"AC05c1e51cc11fe364f481f293628ef130\" # Your Account SID from www.twilio.com/console\n",
    "auth_token  = \"56b29a79d7b7ee053bd6fbd96e2ae2e9\"  # Your Auth Token from www.twilio.com/console\n",
    "\n",
    "client = TwilioRestClient(account_sid, auth_token)\n",
    "\n",
    "message = client.messages.create(\n",
    "    body=\" You are awesome!!!!!!!!!!!!!,\",                             \n",
    "    to=\"+14807580332\",    # Replace with your phone number\n",
    "    from_=\"+1(616) 710-4598\t\") # Replace with your Twilio number\n",
    "\n",
    "print(message.sid)\n"
   ]
  },
  {
   "cell_type": "code",
   "execution_count": null,
   "metadata": {
    "collapsed": true
   },
   "outputs": [],
   "source": []
  }
 ],
 "metadata": {
  "kernelspec": {
   "display_name": "Python 3",
   "language": "python",
   "name": "python3"
  },
  "language_info": {
   "codemirror_mode": {
    "name": "ipython",
    "version": 3
   },
   "file_extension": ".py",
   "mimetype": "text/x-python",
   "name": "python",
   "nbconvert_exporter": "python",
   "pygments_lexer": "ipython3",
   "version": "3.5.1"
  }
 },
 "nbformat": 4,
 "nbformat_minor": 0
}
