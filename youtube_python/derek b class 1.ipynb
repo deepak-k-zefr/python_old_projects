{
 "cells": [
  {
   "cell_type": "code",
   "execution_count": 5,
   "metadata": {
    "collapsed": false
   },
   "outputs": [
    {
     "name": "stdout",
     "output_type": "stream",
     "text": [
      "Enter height : 10\n",
      "Enter width : 10\n",
      "Retrieving the height\n",
      "Height : 10\n",
      "Retrieving the width\n",
      "Width : 10\n",
      "The Area is : 100\n"
     ]
    }
   ],
   "source": [
    "class Square:\n",
    "    def __init__(self, height=\"0\", width=\"0\"):\n",
    "        self.height = height\n",
    "        self.width = width\n",
    " \n",
    "    # This is the getter\n",
    "    @property\n",
    "    def height(self):\n",
    "        print(\"Retrieving the height\")\n",
    " \n",
    "        # Put a __ before this private field\n",
    "        return self.__height\n",
    " \n",
    "    # This is the setter\n",
    "    @height.setter\n",
    "    def height(self, value):\n",
    " \n",
    "        # We protect the height from receiving a bad value\n",
    "        if value.isdigit():\n",
    " \n",
    "            # Put a __ before this private field\n",
    "            self.__height = value\n",
    "        else:\n",
    "            print(\"Please only enter numbers for height\")\n",
    " \n",
    "    # This is the getter\n",
    "    @property\n",
    "    def width(self):\n",
    "        print(\"Retrieving the width\")\n",
    "        return self.__width\n",
    " \n",
    "    # This is the setter\n",
    "    @width.setter\n",
    "    def width(self, value):\n",
    "        if value.isdigit():\n",
    "            self.__width = value\n",
    "        else:\n",
    "            print(\"Please only enter numbers for width\")\n",
    " \n",
    "    def getArea(self):\n",
    "        return int(self.__width) * int(self.__height)\n",
    " \n",
    " \n",
    "def main():\n",
    "    aSquare = Square()\n",
    " \n",
    "    height = input(\"Enter height : \")\n",
    "    width = input(\"Enter width : \")\n",
    " \n",
    "    aSquare.height = height\n",
    "    aSquare.width = width\n",
    " \n",
    "    print(\"Height :\", aSquare.height)\n",
    "    print(\"Width :\", aSquare.width)\n",
    " \n",
    "    print(\"The Area is :\", aSquare.getArea())\n",
    "    \n",
    " \n",
    "main()"
   ]
  },
  {
   "cell_type": "code",
   "execution_count": 9,
   "metadata": {
    "collapsed": false
   },
   "outputs": [
    {
     "ename": "SyntaxError",
     "evalue": "non-default argument follows default argument (<ipython-input-9-c5301313ab32>, line 4)",
     "output_type": "error",
     "traceback": [
      "\u001b[1;36m  File \u001b[1;32m\"<ipython-input-9-c5301313ab32>\"\u001b[1;36m, line \u001b[1;32m4\u001b[0m\n\u001b[1;33m    def __init__(self,name=\"warrior\",health,attkmax=0,blockmax=0):\u001b[0m\n\u001b[1;37m                ^\u001b[0m\n\u001b[1;31mSyntaxError\u001b[0m\u001b[1;31m:\u001b[0m non-default argument follows default argument\n"
     ]
    }
   ],
   "source": [
    "\n",
    "    "
   ]
  },
  {
   "cell_type": "code",
   "execution_count": null,
   "metadata": {
    "collapsed": true
   },
   "outputs": [],
   "source": []
  }
 ],
 "metadata": {
  "kernelspec": {
   "display_name": "Python 3",
   "language": "python",
   "name": "python3"
  },
  "language_info": {
   "codemirror_mode": {
    "name": "ipython",
    "version": 3
   },
   "file_extension": ".py",
   "mimetype": "text/x-python",
   "name": "python",
   "nbconvert_exporter": "python",
   "pygments_lexer": "ipython3",
   "version": "3.5.1"
  }
 },
 "nbformat": 4,
 "nbformat_minor": 0
}
